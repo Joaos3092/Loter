{
 "cells": [
  {
   "cell_type": "markdown",
   "metadata": {},
   "source": [
    "This tutorial illustrate a simple usage of Loter for local ancestry inference."
   ]
  },
  {
   "cell_type": "markdown",
   "metadata": {},
   "source": [
    "# Local Installation"
   ]
  },
  {
   "cell_type": "markdown",
   "metadata": {},
   "source": [
    "For a global installation of Loter follow the procedure explain in the README.md at the top of the directory.\n",
    "Here we demonstrate a simple way to directly use loter locally.\n",
    "If you have already installed Loter, jump to [Loter usage](#loter_usage).\n",
    "\n",
    "First, we need to compile the library"
   ]
  },
  {
   "cell_type": "code",
   "execution_count": 8,
   "metadata": {},
   "outputs": [
    {
     "name": "stdout",
     "output_type": "stream",
     "text": [
      "/home/diasalvt/Loter/loter\n"
     ]
    }
   ],
   "source": [
    "cd .."
   ]
  },
  {
   "cell_type": "code",
   "execution_count": 5,
   "metadata": {},
   "outputs": [
    {
     "name": "stdout",
     "output_type": "stream",
     "text": [
      "g++ -c -Wall -fPIC -O3 -msse2 -fopenmp src/init.cpp -o build/init.o\n",
      "g++ -c -Wall -fPIC -O3 -msse2 -fopenmp src/haplophase.cpp -o build/haplophase.o\n",
      "g++ -c -Wall -fPIC -O3 -msse2 -fopenmp src/estimatea/estimatea_c_api.cpp -o build/estimatea/estimatea_c_api.o\n",
      "g++ -c -Wall -fPIC -O3 -msse2 -fopenmp src/estimatea/estimatea.cpp -o build/estimatea/estimatea.o\n",
      "g++ -c -Wall -fPIC -O3 -msse2 -fopenmp src/datastruct/data.cpp -o build/datastruct/data.o\n",
      "g++ -c -Wall -fPIC -O3 -msse2 -fopenmp src/datastruct/parameter_opti.cpp -o build/datastruct/parameter_opti.o\n",
      "g++ -c -Wall -fPIC -O3 -msse2 -fopenmp src/datastruct/parameter_c_api.cpp -o build/datastruct/parameter_c_api.o\n",
      "g++ -c -Wall -fPIC -O3 -msse2 -fopenmp src/datastruct/data_c_api.cpp -o build/datastruct/data_c_api.o\n",
      "g++ -c -Wall -fPIC -O3 -msse2 -fopenmp src/graph/graph_c_api.cpp -o build/graph/graph_c_api.o\n",
      "g++ -c -Wall -fPIC -O3 -msse2 -fopenmp src/graph/graph.cpp -o build/graph/graph.o\n",
      "g++ -c -Wall -fPIC -O3 -msse2 -fopenmp src/parameter/main.cpp -o build/parameter/main.o\n",
      "g++ -c -Wall -fPIC -O3 -msse2 -fopenmp src/estimateh/estimateh.cpp -o build/estimateh/estimateh.o\n",
      "g++ -c -Wall -fPIC -O3 -msse2 -fopenmp src/estimateh/estimateh_c_api.cpp -o build/estimateh/estimateh_c_api.o\n",
      "g++ -c -Wall -fPIC -O3 -msse2 -fopenmp src/utils/missingdata.cpp -o build/utils/missingdata.o\n",
      "g++ -c -Wall -fPIC -O3 -msse2 -fopenmp src/errorhandler/errorhandler.cpp -o build/errorhandler/errorhandler.o\n",
      "g++ -Wall -fPIC -O3 -msse2 -fopenmp -shared -o lib/libloter.so build/init.o build/haplophase.o build/estimatea/estimatea_c_api.o build/estimatea/estimatea.o build/datastruct/data.o build/datastruct/parameter_opti.o build/datastruct/parameter_c_api.o build/datastruct/data_c_api.o build/graph/graph_c_api.o build/graph/graph.o build/parameter/main.o build/estimateh/estimateh.o build/estimateh/estimateh_c_api.o build/utils/missingdata.o build/errorhandler/errorhandler.o \n"
     ]
    }
   ],
   "source": [
    "!make"
   ]
  },
  {
   "cell_type": "markdown",
   "metadata": {},
   "source": [
    "If you do not have `OPENMP` installed on your computer, you'll need to desactivate this library."
   ]
  },
  {
   "cell_type": "code",
   "execution_count": 9,
   "metadata": {},
   "outputs": [
    {
     "name": "stdout",
     "output_type": "stream",
     "text": [
      "g++ -c -Wall -fPIC -O3 -msse2 -DDISABLE_OPENMP src/init.cpp -o build/init.o\n",
      "g++ -c -Wall -fPIC -O3 -msse2 -DDISABLE_OPENMP src/haplophase.cpp -o build/haplophase.o\n",
      "\u001b[01m\u001b[Ksrc/haplophase.cpp:198:0:\u001b[m\u001b[K \u001b[01;35m\u001b[Kattention : \u001b[m\u001b[K#pragma omp parallel ignoré [-Wunknown-pragmas]\n",
      "   #pragma omp parallel for\n",
      "\u001b[01;32m\u001b[K ^\u001b[m\u001b[K\n",
      "\u001b[01m\u001b[Ksrc/haplophase.cpp:205:0:\u001b[m\u001b[K \u001b[01;35m\u001b[Kattention : \u001b[m\u001b[K#pragma omp critical ignoré [-Wunknown-pragmas]\n",
      "     #pragma omp critical\n",
      "\u001b[01;32m\u001b[K ^\u001b[m\u001b[K\n",
      "\u001b[01m\u001b[Ksrc/haplophase.cpp:244:0:\u001b[m\u001b[K \u001b[01;35m\u001b[Kattention : \u001b[m\u001b[K#pragma omp parallel ignoré [-Wunknown-pragmas]\n",
      "   #pragma omp parallel for\n",
      "\u001b[01;32m\u001b[K ^\u001b[m\u001b[K\n",
      "\u001b[01m\u001b[Ksrc/haplophase.cpp:251:0:\u001b[m\u001b[K \u001b[01;35m\u001b[Kattention : \u001b[m\u001b[K#pragma omp critical ignoré [-Wunknown-pragmas]\n",
      "     #pragma omp critical\n",
      "\u001b[01;32m\u001b[K ^\u001b[m\u001b[K\n",
      "g++ -c -Wall -fPIC -O3 -msse2 -DDISABLE_OPENMP src/estimatea/estimatea_c_api.cpp -o build/estimatea/estimatea_c_api.o\n",
      "g++ -c -Wall -fPIC -O3 -msse2 -DDISABLE_OPENMP src/estimatea/estimatea.cpp -o build/estimatea/estimatea.o\n",
      "g++ -c -Wall -fPIC -O3 -msse2 -DDISABLE_OPENMP src/datastruct/data.cpp -o build/datastruct/data.o\n",
      "g++ -c -Wall -fPIC -O3 -msse2 -DDISABLE_OPENMP src/datastruct/parameter_opti.cpp -o build/datastruct/parameter_opti.o\n",
      "g++ -c -Wall -fPIC -O3 -msse2 -DDISABLE_OPENMP src/datastruct/parameter_c_api.cpp -o build/datastruct/parameter_c_api.o\n",
      "g++ -c -Wall -fPIC -O3 -msse2 -DDISABLE_OPENMP src/datastruct/data_c_api.cpp -o build/datastruct/data_c_api.o\n",
      "g++ -c -Wall -fPIC -O3 -msse2 -DDISABLE_OPENMP src/graph/graph_c_api.cpp -o build/graph/graph_c_api.o\n",
      "g++ -c -Wall -fPIC -O3 -msse2 -DDISABLE_OPENMP src/graph/graph.cpp -o build/graph/graph.o\n",
      "\u001b[01m\u001b[Ksrc/graph/graph.cpp:122:0:\u001b[m\u001b[K \u001b[01;35m\u001b[Kattention : \u001b[m\u001b[K#pragma omp parallel ignoré [-Wunknown-pragmas]\n",
      "   #pragma omp parallel for\n",
      "\u001b[01;32m\u001b[K ^\u001b[m\u001b[K\n",
      "\u001b[01m\u001b[Ksrc/graph/graph.cpp:603:0:\u001b[m\u001b[K \u001b[01;35m\u001b[Kattention : \u001b[m\u001b[K#pragma omp parallel ignoré [-Wunknown-pragmas]\n",
      "   #pragma omp parallel for\n",
      "\u001b[01;32m\u001b[K ^\u001b[m\u001b[K\n",
      "g++ -c -Wall -fPIC -O3 -msse2 -DDISABLE_OPENMP src/parameter/main.cpp -o build/parameter/main.o\n",
      "g++ -c -Wall -fPIC -O3 -msse2 -DDISABLE_OPENMP src/estimateh/estimateh.cpp -o build/estimateh/estimateh.o\n",
      "g++ -c -Wall -fPIC -O3 -msse2 -DDISABLE_OPENMP src/estimateh/estimateh_c_api.cpp -o build/estimateh/estimateh_c_api.o\n",
      "g++ -c -Wall -fPIC -O3 -msse2 -DDISABLE_OPENMP src/utils/missingdata.cpp -o build/utils/missingdata.o\n",
      "g++ -c -Wall -fPIC -O3 -msse2 -DDISABLE_OPENMP src/errorhandler/errorhandler.cpp -o build/errorhandler/errorhandler.o\n",
      "g++ -Wall -fPIC -O3 -msse2 -DDISABLE_OPENMP -shared -o lib/libloter.so build/init.o build/haplophase.o build/estimatea/estimatea_c_api.o build/estimatea/estimatea.o build/datastruct/data.o build/datastruct/parameter_opti.o build/datastruct/parameter_c_api.o build/datastruct/data_c_api.o build/graph/graph_c_api.o build/graph/graph.o build/parameter/main.o build/estimateh/estimateh.o build/estimateh/estimateh_c_api.o build/utils/missingdata.o build/errorhandler/errorhandler.o \n"
     ]
    }
   ],
   "source": [
    "!make no_omp=1"
   ]
  },
  {
   "cell_type": "code",
   "execution_count": 10,
   "metadata": {},
   "outputs": [
    {
     "name": "stdout",
     "output_type": "stream",
     "text": [
      "/home/diasalvt/Loter/loter/python-package\n"
     ]
    }
   ],
   "source": [
    "cd python-package"
   ]
  },
  {
   "cell_type": "markdown",
   "metadata": {},
   "source": [
    "Now we can directly use the Python package \"loter\" because we are in the good directory. If you installed `Loter` globally this is not necessary."
   ]
  },
  {
   "cell_type": "markdown",
   "metadata": {},
   "source": [
    "<a id='loter_usage'></a>\n",
    "# Loter usage"
   ]
  },
  {
   "cell_type": "markdown",
   "metadata": {},
   "source": [
    "To use Loter you will need some basic libraries as numpy, ctypes, pandas, scipy, sklearn..."
   ]
  },
  {
   "cell_type": "markdown",
   "metadata": {},
   "source": [
    "## Load Data"
   ]
  },
  {
   "cell_type": "code",
   "execution_count": 13,
   "metadata": {
    "collapsed": true
   },
   "outputs": [],
   "source": [
    "import numpy as np\n",
    "\n",
    "H_ceu = np.load(\"../data/H_ceu.npy\")\n",
    "H_yri = np.load(\"../data/H_yri.npy\")"
   ]
  },
  {
   "cell_type": "code",
   "execution_count": 14,
   "metadata": {},
   "outputs": [
    {
     "data": {
      "text/plain": [
       "(88, 116415)"
      ]
     },
     "execution_count": 14,
     "metadata": {},
     "output_type": "execute_result"
    }
   ],
   "source": [
    "H_ceu.shape"
   ]
  },
  {
   "cell_type": "code",
   "execution_count": 15,
   "metadata": {},
   "outputs": [
    {
     "data": {
      "text/plain": [
       "(100, 116415)"
      ]
     },
     "execution_count": 15,
     "metadata": {},
     "output_type": "execute_result"
    }
   ],
   "source": [
    "H_yri.shape"
   ]
  },
  {
   "cell_type": "markdown",
   "metadata": {},
   "source": [
    "## Create an admixed individual"
   ]
  },
  {
   "cell_type": "code",
   "execution_count": 16,
   "metadata": {
    "collapsed": true
   },
   "outputs": [],
   "source": [
    "H_met = np.copy(H_ceu[:2])"
   ]
  },
  {
   "cell_type": "markdown",
   "metadata": {},
   "source": [
    "At the middle of the dataset, the ancestry switches between CEU and YRI."
   ]
  },
  {
   "cell_type": "code",
   "execution_count": 17,
   "metadata": {
    "collapsed": true
   },
   "outputs": [],
   "source": [
    "pos_snp = H_yri.shape[1] / 2"
   ]
  },
  {
   "cell_type": "code",
   "execution_count": 28,
   "metadata": {},
   "outputs": [
    {
     "name": "stdout",
     "output_type": "stream",
     "text": [
      "58207\n"
     ]
    }
   ],
   "source": [
    "print(pos_snp)"
   ]
  },
  {
   "cell_type": "code",
   "execution_count": 18,
   "metadata": {
    "collapsed": true
   },
   "outputs": [],
   "source": [
    "H_met[:, pos_snp:] = H_yri[:2, pos_snp:]"
   ]
  },
  {
   "cell_type": "markdown",
   "metadata": {},
   "source": [
    "## Run Loter"
   ]
  },
  {
   "cell_type": "markdown",
   "metadata": {},
   "source": [
    "We exclude the 2 first individuals used to create the admixed individuals."
   ]
  },
  {
   "cell_type": "code",
   "execution_count": 22,
   "metadata": {},
   "outputs": [],
   "source": [
    "import loter.locanc.local_ancestry as lc\n",
    "\n",
    "res_loter = lc.loter_smooth([H_ceu[2:], H_yri[2:]], H_met)"
   ]
  },
  {
   "cell_type": "markdown",
   "metadata": {},
   "source": [
    "## Plot the result"
   ]
  },
  {
   "cell_type": "code",
   "execution_count": 27,
   "metadata": {},
   "outputs": [
    {
     "data": {
      "text/plain": [
       "<matplotlib.image.AxesImage at 0x7fe0a29f8890>"
      ]
     },
     "execution_count": 27,
     "metadata": {},
     "output_type": "execute_result"
    },
    {
     "data": {
      "image/png": "[encoded data removed]",
      "text/plain": [
       "<matplotlib.figure.Figure at 0x7fe0a770f9d0>"
      ]
     },
     "metadata": {},
     "output_type": "display_data"
    }
   ],
   "source": [
    "% matplotlib inline\n",
    "import matplotlib.pyplot as plt\n",
    "\n",
    "plt.imshow(res_loter, interpolation='nearest', aspect='auto')"
   ]
  },
  {
   "cell_type": "markdown",
   "metadata": {},
   "source": [
    "Where the switch appear in the result."
   ]
  },
  {
   "cell_type": "code",
   "execution_count": 31,
   "metadata": {},
   "outputs": [
    {
     "data": {
      "text/plain": [
       "array([[    0, 58207],\n",
       "       [    1, 58207]])"
      ]
     },
     "execution_count": 31,
     "metadata": {},
     "output_type": "execute_result"
    }
   ],
   "source": [
    "np.argwhere(np.diff(res_loter))"
   ]
  },
  {
   "cell_type": "markdown",
   "metadata": {},
   "source": [
    "Notice you might find another result due to the stochastic nature of Loter."
   ]
  }
 ],
 "metadata": {
  "kernelspec": {
   "display_name": "Python 2",
   "language": "python",
   "name": "python2"
  },
  "language_info": {
   "codemirror_mode": {
    "name": "ipython",
    "version": 2
   },
   "file_extension": ".py",
   "mimetype": "text/x-python",
   "name": "python",
   "nbconvert_exporter": "python",
   "pygments_lexer": "ipython2",
   "version": "2.7.13"
  }
 },
 "nbformat": 4,
 "nbformat_minor": 2
}
