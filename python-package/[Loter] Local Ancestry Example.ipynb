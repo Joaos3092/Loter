{
 "cells": [
  {
   "cell_type": "markdown",
   "metadata": {},
   "source": [
    "This tutorial illustrate a simple usage of Loter for local ancestry inference."
   ]
  },
  {
   "cell_type": "markdown",
   "metadata": {},
   "source": [
    "# Local Installation"
   ]
  },
  {
   "cell_type": "markdown",
   "metadata": {},
   "source": [
    "For a global installation of Loter follow the procedure explain in the README.md at the top of the directory.\n",
    "Here we demonstrate a simple way to directly use loter locally.\n",
    "If you have already installed Loter, jump to [Loter usage](#loter_usage).\n",
    "\n",
    "First, we need to compile the library"
   ]
  },
  {
   "cell_type": "code",
   "execution_count": 8,
   "metadata": {},
   "outputs": [
    {
     "name": "stdout",
     "output_type": "stream",
     "text": [
      "/home/diasalvt/Loter/loter\n"
     ]
    }
   ],
   "source": [
    "cd .."
   ]
  },
  {
   "cell_type": "code",
   "execution_count": 5,
   "metadata": {},
   "outputs": [
    {
     "name": "stdout",
     "output_type": "stream",
     "text": [
      "g++ -c -Wall -fPIC -O3 -msse2 -fopenmp src/init.cpp -o build/init.o\n",
      "g++ -c -Wall -fPIC -O3 -msse2 -fopenmp src/haplophase.cpp -o build/haplophase.o\n",
      "g++ -c -Wall -fPIC -O3 -msse2 -fopenmp src/estimatea/estimatea_c_api.cpp -o build/estimatea/estimatea_c_api.o\n",
      "g++ -c -Wall -fPIC -O3 -msse2 -fopenmp src/estimatea/estimatea.cpp -o build/estimatea/estimatea.o\n",
      "g++ -c -Wall -fPIC -O3 -msse2 -fopenmp src/datastruct/data.cpp -o build/datastruct/data.o\n",
      "g++ -c -Wall -fPIC -O3 -msse2 -fopenmp src/datastruct/parameter_opti.cpp -o build/datastruct/parameter_opti.o\n",
      "g++ -c -Wall -fPIC -O3 -msse2 -fopenmp src/datastruct/parameter_c_api.cpp -o build/datastruct/parameter_c_api.o\n",
      "g++ -c -Wall -fPIC -O3 -msse2 -fopenmp src/datastruct/data_c_api.cpp -o build/datastruct/data_c_api.o\n",
      "g++ -c -Wall -fPIC -O3 -msse2 -fopenmp src/graph/graph_c_api.cpp -o build/graph/graph_c_api.o\n",
      "g++ -c -Wall -fPIC -O3 -msse2 -fopenmp src/graph/graph.cpp -o build/graph/graph.o\n",
      "g++ -c -Wall -fPIC -O3 -msse2 -fopenmp src/parameter/main.cpp -o build/parameter/main.o\n",
      "g++ -c -Wall -fPIC -O3 -msse2 -fopenmp src/estimateh/estimateh.cpp -o build/estimateh/estimateh.o\n",
      "g++ -c -Wall -fPIC -O3 -msse2 -fopenmp src/estimateh/estimateh_c_api.cpp -o build/estimateh/estimateh_c_api.o\n",
      "g++ -c -Wall -fPIC -O3 -msse2 -fopenmp src/utils/missingdata.cpp -o build/utils/missingdata.o\n",
      "g++ -c -Wall -fPIC -O3 -msse2 -fopenmp src/errorhandler/errorhandler.cpp -o build/errorhandler/errorhandler.o\n",
      "g++ -Wall -fPIC -O3 -msse2 -fopenmp -shared -o lib/libloter.so build/init.o build/haplophase.o build/estimatea/estimatea_c_api.o build/estimatea/estimatea.o build/datastruct/data.o build/datastruct/parameter_opti.o build/datastruct/parameter_c_api.o build/datastruct/data_c_api.o build/graph/graph_c_api.o build/graph/graph.o build/parameter/main.o build/estimateh/estimateh.o build/estimateh/estimateh_c_api.o build/utils/missingdata.o build/errorhandler/errorhandler.o \n"
     ]
    }
   ],
   "source": [
    "!make"
   ]
  },
  {
   "cell_type": "markdown",
   "metadata": {},
   "source": [
    "If you do not have `OPENMP` installed on your computer, you'll need to desactivate this library."
   ]
  },
  {
   "cell_type": "code",
   "execution_count": 9,
   "metadata": {},
   "outputs": [
    {
     "name": "stdout",
     "output_type": "stream",
     "text": [
      "g++ -c -Wall -fPIC -O3 -msse2 -DDISABLE_OPENMP src/init.cpp -o build/init.o\n",
      "g++ -c -Wall -fPIC -O3 -msse2 -DDISABLE_OPENMP src/haplophase.cpp -o build/haplophase.o\n",
      "\u001b[01m\u001b[Ksrc/haplophase.cpp:198:0:\u001b[m\u001b[K \u001b[01;35m\u001b[Kattention : \u001b[m\u001b[K#pragma omp parallel ignoré [-Wunknown-pragmas]\n",
      "   #pragma omp parallel for\n",
      "\u001b[01;32m\u001b[K ^\u001b[m\u001b[K\n",
      "\u001b[01m\u001b[Ksrc/haplophase.cpp:205:0:\u001b[m\u001b[K \u001b[01;35m\u001b[Kattention : \u001b[m\u001b[K#pragma omp critical ignoré [-Wunknown-pragmas]\n",
      "     #pragma omp critical\n",
      "\u001b[01;32m\u001b[K ^\u001b[m\u001b[K\n",
      "\u001b[01m\u001b[Ksrc/haplophase.cpp:244:0:\u001b[m\u001b[K \u001b[01;35m\u001b[Kattention : \u001b[m\u001b[K#pragma omp parallel ignoré [-Wunknown-pragmas]\n",
      "   #pragma omp parallel for\n",
      "\u001b[01;32m\u001b[K ^\u001b[m\u001b[K\n",
      "\u001b[01m\u001b[Ksrc/haplophase.cpp:251:0:\u001b[m\u001b[K \u001b[01;35m\u001b[Kattention : \u001b[m\u001b[K#pragma omp critical ignoré [-Wunknown-pragmas]\n",
      "     #pragma omp critical\n",
      "\u001b[01;32m\u001b[K ^\u001b[m\u001b[K\n",
      "g++ -c -Wall -fPIC -O3 -msse2 -DDISABLE_OPENMP src/estimatea/estimatea_c_api.cpp -o build/estimatea/estimatea_c_api.o\n",
      "g++ -c -Wall -fPIC -O3 -msse2 -DDISABLE_OPENMP src/estimatea/estimatea.cpp -o build/estimatea/estimatea.o\n",
      "g++ -c -Wall -fPIC -O3 -msse2 -DDISABLE_OPENMP src/datastruct/data.cpp -o build/datastruct/data.o\n",
      "g++ -c -Wall -fPIC -O3 -msse2 -DDISABLE_OPENMP src/datastruct/parameter_opti.cpp -o build/datastruct/parameter_opti.o\n",
      "g++ -c -Wall -fPIC -O3 -msse2 -DDISABLE_OPENMP src/datastruct/parameter_c_api.cpp -o build/datastruct/parameter_c_api.o\n",
      "g++ -c -Wall -fPIC -O3 -msse2 -DDISABLE_OPENMP src/datastruct/data_c_api.cpp -o build/datastruct/data_c_api.o\n",
      "g++ -c -Wall -fPIC -O3 -msse2 -DDISABLE_OPENMP src/graph/graph_c_api.cpp -o build/graph/graph_c_api.o\n",
      "g++ -c -Wall -fPIC -O3 -msse2 -DDISABLE_OPENMP src/graph/graph.cpp -o build/graph/graph.o\n",
      "\u001b[01m\u001b[Ksrc/graph/graph.cpp:122:0:\u001b[m\u001b[K \u001b[01;35m\u001b[Kattention : \u001b[m\u001b[K#pragma omp parallel ignoré [-Wunknown-pragmas]\n",
      "   #pragma omp parallel for\n",
      "\u001b[01;32m\u001b[K ^\u001b[m\u001b[K\n",
      "\u001b[01m\u001b[Ksrc/graph/graph.cpp:603:0:\u001b[m\u001b[K \u001b[01;35m\u001b[Kattention : \u001b[m\u001b[K#pragma omp parallel ignoré [-Wunknown-pragmas]\n",
      "   #pragma omp parallel for\n",
      "\u001b[01;32m\u001b[K ^\u001b[m\u001b[K\n",
      "g++ -c -Wall -fPIC -O3 -msse2 -DDISABLE_OPENMP src/parameter/main.cpp -o build/parameter/main.o\n",
      "g++ -c -Wall -fPIC -O3 -msse2 -DDISABLE_OPENMP src/estimateh/estimateh.cpp -o build/estimateh/estimateh.o\n",
      "g++ -c -Wall -fPIC -O3 -msse2 -DDISABLE_OPENMP src/estimateh/estimateh_c_api.cpp -o build/estimateh/estimateh_c_api.o\n",
      "g++ -c -Wall -fPIC -O3 -msse2 -DDISABLE_OPENMP src/utils/missingdata.cpp -o build/utils/missingdata.o\n",
      "g++ -c -Wall -fPIC -O3 -msse2 -DDISABLE_OPENMP src/errorhandler/errorhandler.cpp -o build/errorhandler/errorhandler.o\n",
      "g++ -Wall -fPIC -O3 -msse2 -DDISABLE_OPENMP -shared -o lib/libloter.so build/init.o build/haplophase.o build/estimatea/estimatea_c_api.o build/estimatea/estimatea.o build/datastruct/data.o build/datastruct/parameter_opti.o build/datastruct/parameter_c_api.o build/datastruct/data_c_api.o build/graph/graph_c_api.o build/graph/graph.o build/parameter/main.o build/estimateh/estimateh.o build/estimateh/estimateh_c_api.o build/utils/missingdata.o build/errorhandler/errorhandler.o \n"
     ]
    }
   ],
   "source": [
    "!make no_omp=1"
   ]
  },
  {
   "cell_type": "code",
   "execution_count": 10,
   "metadata": {},
   "outputs": [
    {
     "name": "stdout",
     "output_type": "stream",
     "text": [
      "/home/diasalvt/Loter/loter/python-package\n"
     ]
    }
   ],
   "source": [
    "cd python-package"
   ]
  },
  {
   "cell_type": "markdown",
   "metadata": {},
   "source": [
    "Now we can directly use the Python package \"loter\" because we are in the good directory. If you installed `Loter` globally this is not necessary."
   ]
  },
  {
   "cell_type": "markdown",
   "metadata": {},
   "source": [
    "<a id='loter_usage'></a>\n",
    "# Loter usage"
   ]
  },
  {
   "cell_type": "markdown",
   "metadata": {},
   "source": [
    "To use Loter you will need some basic libraries as numpy, ctypes, pandas, scipy, sklearn..."
   ]
  },
  {
   "cell_type": "markdown",
   "metadata": {},
   "source": [
    "## Load Data"
   ]
  },
  {
   "cell_type": "code",
   "execution_count": 61,
   "metadata": {
    "collapsed": true
   },
   "outputs": [],
   "source": [
    "import numpy as np\n",
    "\n",
    "H_ceu = np.load(\"../data/H_ceu.npy\")\n",
    "H_yri = np.load(\"../data/H_yri.npy\")"
   ]
  },
  {
   "cell_type": "code",
   "execution_count": 62,
   "metadata": {},
   "outputs": [
    {
     "data": {
      "text/plain": [
       "(88, 50000)"
      ]
     },
     "execution_count": 62,
     "metadata": {},
     "output_type": "execute_result"
    }
   ],
   "source": [
    "H_ceu.shape"
   ]
  },
  {
   "cell_type": "code",
   "execution_count": 63,
   "metadata": {},
   "outputs": [
    {
     "data": {
      "text/plain": [
       "(100, 50000)"
      ]
     },
     "execution_count": 63,
     "metadata": {},
     "output_type": "execute_result"
    }
   ],
   "source": [
    "H_yri.shape"
   ]
  },
  {
   "cell_type": "markdown",
   "metadata": {},
   "source": [
    "## Create an admixed individual"
   ]
  },
  {
   "cell_type": "code",
   "execution_count": 64,
   "metadata": {
    "collapsed": true
   },
   "outputs": [],
   "source": [
    "H_met = np.copy(H_ceu[:2])"
   ]
  },
  {
   "cell_type": "markdown",
   "metadata": {},
   "source": [
    "At the middle of the dataset, the ancestry switches between CEU and YRI."
   ]
  },
  {
   "cell_type": "code",
   "execution_count": 65,
   "metadata": {
    "collapsed": true
   },
   "outputs": [],
   "source": [
    "pos_snp = H_yri.shape[1] / 2"
   ]
  },
  {
   "cell_type": "code",
   "execution_count": 66,
   "metadata": {},
   "outputs": [
    {
     "name": "stdout",
     "output_type": "stream",
     "text": [
      "25000\n"
     ]
    }
   ],
   "source": [
    "print(pos_snp)"
   ]
  },
  {
   "cell_type": "code",
   "execution_count": 67,
   "metadata": {
    "collapsed": true
   },
   "outputs": [],
   "source": [
    "H_met[:, pos_snp:] = H_yri[:2, pos_snp:]"
   ]
  },
  {
   "cell_type": "markdown",
   "metadata": {},
   "source": [
    "## Run Loter"
   ]
  },
  {
   "cell_type": "markdown",
   "metadata": {},
   "source": [
    "We exclude the 2 first individuals used to create the admixed individuals."
   ]
  },
  {
   "cell_type": "code",
   "execution_count": 68,
   "metadata": {},
   "outputs": [],
   "source": [
    "import loter.locanc.local_ancestry as lc\n",
    "\n",
    "res_loter = lc.loter_smooth([H_ceu[2:], H_yri[2:]], H_met)"
   ]
  },
  {
   "cell_type": "markdown",
   "metadata": {},
   "source": [
    "## Plot the result"
   ]
  },
  {
   "cell_type": "code",
   "execution_count": 69,
   "metadata": {},
   "outputs": [
    {
     "data": {
      "text/plain": [
       "<matplotlib.image.AxesImage at 0x7fe0c17eec10>"
      ]
     },
     "execution_count": 69,
     "metadata": {},
     "output_type": "execute_result"
    },
    {
     "data": {
      "image/png": "[encoded data removed]",
      "text/plain": [
       "<matplotlib.figure.Figure at 0x7fe09ccac410>"
      ]
     },
     "metadata": {},
     "output_type": "display_data"
    }
   ],
   "source": [
    "% matplotlib inline\n",
    "import matplotlib.pyplot as plt\n",
    "\n",
    "plt.imshow(res_loter, interpolation='nearest', aspect='auto')"
   ]
  },
  {
   "cell_type": "markdown",
   "metadata": {},
   "source": [
    "Where the switch appear in the result."
   ]
  },
  {
   "cell_type": "code",
   "execution_count": 70,
   "metadata": {},
   "outputs": [
    {
     "data": {
      "text/plain": [
       "array([[    0, 24994],\n",
       "       [    1, 24994]])"
      ]
     },
     "execution_count": 70,
     "metadata": {},
     "output_type": "execute_result"
    }
   ],
   "source": [
    "np.argwhere(np.diff(res_loter))"
   ]
  },
  {
   "cell_type": "markdown",
   "metadata": {},
   "source": [
    "Notice you might find another result due to the stochastic nature of Loter."
   ]
  },
  {
   "cell_type": "markdown",
   "metadata": {},
   "source": [
    "# Loter with vcf"
   ]
  },
  {
   "cell_type": "markdown",
   "metadata": {},
   "source": [
    "To load a VCF, we use [scikit allel](To load a VCF, we use scikit allel)."
   ]
  },
  {
   "cell_type": "code",
   "execution_count": 35,
   "metadata": {
    "collapsed": true
   },
   "outputs": [],
   "source": [
    "import allel"
   ]
  },
  {
   "cell_type": "code",
   "execution_count": 51,
   "metadata": {},
   "outputs": [],
   "source": [
    "def vcf2npy(vcfpath):\n",
    "    callset = allel.read_vcf(vcfpath)\n",
    "    haplotypes_1 = callset['calldata/GT'][:,:,0]\n",
    "    haplotypes_2 = callset['calldata/GT'][:,:,1]\n",
    "    \n",
    "    m, n = haplotypes_1.shape\n",
    "    mat_haplo = np.empty((2*n, m))\n",
    "    mat_haplo[::2] = haplotypes_1.T\n",
    "    mat_haplo[1::2] = haplotypes_2.T\n",
    "    \n",
    "    return mat_haplo.astype(np.uint8)"
   ]
  },
  {
   "cell_type": "markdown",
   "metadata": {},
   "source": [
    "These 3 files are the results of Beagle."
   ]
  },
  {
   "cell_type": "code",
   "execution_count": 76,
   "metadata": {},
   "outputs": [],
   "source": [
    "ceu_hap = vcf2npy('../data/ceu.vcf')\n",
    "yri_hap = vcf2npy('../data/yri.vcf')\n",
    "mex_hap = vcf2npy('../data/mex.vcf')"
   ]
  },
  {
   "cell_type": "code",
   "execution_count": 77,
   "metadata": {
    "collapsed": true
   },
   "outputs": [],
   "source": [
    "import loter.locanc.local_ancestry as lc\n",
    "\n",
    "mex_admixed = lc.loter_smooth([ceu_hap, yri_hap], mex_hap)"
   ]
  },
  {
   "cell_type": "code",
   "execution_count": 78,
   "metadata": {},
   "outputs": [
    {
     "data": {
      "text/plain": [
       "<matplotlib.image.AxesImage at 0x7fe0c14fb3d0>"
      ]
     },
     "execution_count": 78,
     "metadata": {},
     "output_type": "execute_result"
    },
    {
     "data": {
      "image/png": "[encoded data removed]",
      "text/plain": [
       "<matplotlib.figure.Figure at 0x7fe0c15527d0>"
      ]
     },
     "metadata": {},
     "output_type": "display_data"
    }
   ],
   "source": [
    "% matplotlib inline\n",
    "import matplotlib.pyplot as plt\n",
    "\n",
    "plt.imshow(mex_admixed, interpolation='nearest', aspect='auto')"
   ]
  },
  {
   "cell_type": "code",
   "execution_count": null,
   "metadata": {
    "collapsed": true
   },
   "outputs": [],
   "source": []
  }
 ],
 "metadata": {
  "kernelspec": {
   "display_name": "Python 2",
   "language": "python",
   "name": "python2"
  },
  "language_info": {
   "codemirror_mode": {
    "name": "ipython",
    "version": 2
   },
   "file_extension": ".py",
   "mimetype": "text/x-python",
   "name": "python",
   "nbconvert_exporter": "python",
   "pygments_lexer": "ipython2",
   "version": "2.7.13"
  }
 },
 "nbformat": 4,
 "nbformat_minor": 2
}
