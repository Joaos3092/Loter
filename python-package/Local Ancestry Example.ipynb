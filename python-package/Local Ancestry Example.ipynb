{
 "cells": [
  {
   "cell_type": "markdown",
   "metadata": {},
   "source": [
    "This tutorial illustrates a simple usage of Loter for local ancestry inference."
   ]
  },
  {
   "cell_type": "markdown",
   "metadata": {},
   "source": [
    "## Table of Contents\n",
    "* [I) Local Installation](#local_installation)\n",
    "* [II) Quick overview](#loter_usage)\n",
    "* [III) Running Loter from VCF Files](#vcf)\n"
   ]
  },
  {
   "cell_type": "markdown",
   "metadata": {},
   "source": [
    "# I) Local Installation <a class=\"anchor\" id=\"local_installation\"></a>"
   ]
  },
  {
   "cell_type": "markdown",
   "metadata": {},
   "source": [
    "For a global installation of Loter follow the procedure explain in the README.md at the top of the directory.\n",
    "Here we demonstrate a simple way to directly use loter locally.\n",
    "If you have already installed Loter, jump to [Loter usage](#loter_usage).\n",
    "\n",
    "First, we need to compile the library"
   ]
  },
  {
   "cell_type": "code",
   "execution_count": 1,
   "metadata": {},
   "outputs": [
    {
     "name": "stdout",
     "output_type": "stream",
     "text": [
      "/home/diasalvt/GitHub/Loter\n"
     ]
    }
   ],
   "source": [
    "cd .."
   ]
  },
  {
   "cell_type": "code",
   "execution_count": 2,
   "metadata": {},
   "outputs": [
    {
     "name": "stdout",
     "output_type": "stream",
     "text": [
      "g++ -c -Wall -fPIC -O3 -msse2 -fopenmp src/init.cpp -o build/init.o\n",
      "g++ -c -Wall -fPIC -O3 -msse2 -fopenmp src/haplophase.cpp -o build/haplophase.o\n",
      "g++ -c -Wall -fPIC -O3 -msse2 -fopenmp src/estimatea/estimatea_c_api.cpp -o build/estimatea/estimatea_c_api.o\n",
      "g++ -c -Wall -fPIC -O3 -msse2 -fopenmp src/estimatea/estimatea.cpp -o build/estimatea/estimatea.o\n",
      "g++ -c -Wall -fPIC -O3 -msse2 -fopenmp src/datastruct/data.cpp -o build/datastruct/data.o\n",
      "g++ -c -Wall -fPIC -O3 -msse2 -fopenmp src/datastruct/parameter_opti.cpp -o build/datastruct/parameter_opti.o\n",
      "g++ -c -Wall -fPIC -O3 -msse2 -fopenmp src/datastruct/parameter_c_api.cpp -o build/datastruct/parameter_c_api.o\n",
      "g++ -c -Wall -fPIC -O3 -msse2 -fopenmp src/datastruct/data_c_api.cpp -o build/datastruct/data_c_api.o\n",
      "g++ -c -Wall -fPIC -O3 -msse2 -fopenmp src/graph/graph_c_api.cpp -o build/graph/graph_c_api.o\n",
      "g++ -c -Wall -fPIC -O3 -msse2 -fopenmp src/graph/graph.cpp -o build/graph/graph.o\n",
      "g++ -c -Wall -fPIC -O3 -msse2 -fopenmp src/parameter/main.cpp -o build/parameter/main.o\n",
      "g++ -c -Wall -fPIC -O3 -msse2 -fopenmp src/estimateh/estimateh.cpp -o build/estimateh/estimateh.o\n",
      "g++ -c -Wall -fPIC -O3 -msse2 -fopenmp src/estimateh/estimateh_c_api.cpp -o build/estimateh/estimateh_c_api.o\n",
      "g++ -c -Wall -fPIC -O3 -msse2 -fopenmp src/utils/missingdata.cpp -o build/utils/missingdata.o\n",
      "g++ -c -Wall -fPIC -O3 -msse2 -fopenmp src/errorhandler/errorhandler.cpp -o build/errorhandler/errorhandler.o\n",
      "g++ -Wall -fPIC -O3 -msse2 -fopenmp -shared -o lib/libloter.so build/init.o build/haplophase.o build/estimatea/estimatea_c_api.o build/estimatea/estimatea.o build/datastruct/data.o build/datastruct/parameter_opti.o build/datastruct/parameter_c_api.o build/datastruct/data_c_api.o build/graph/graph_c_api.o build/graph/graph.o build/parameter/main.o build/estimateh/estimateh.o build/estimateh/estimateh_c_api.o build/utils/missingdata.o build/errorhandler/errorhandler.o \n"
     ]
    }
   ],
   "source": [
    "!make"
   ]
  },
  {
   "cell_type": "markdown",
   "metadata": {},
   "source": [
    "If you do not have `OPENMP` installed on your computer, you'll need to desactivate this library."
   ]
  },
  {
   "cell_type": "code",
   "execution_count": 9,
   "metadata": {},
   "outputs": [
    {
     "name": "stdout",
     "output_type": "stream",
     "text": [
      "g++ -c -Wall -fPIC -O3 -msse2 -DDISABLE_OPENMP src/init.cpp -o build/init.o\n",
      "g++ -c -Wall -fPIC -O3 -msse2 -DDISABLE_OPENMP src/haplophase.cpp -o build/haplophase.o\n",
      "\u001b[01m\u001b[Ksrc/haplophase.cpp:198:0:\u001b[m\u001b[K \u001b[01;35m\u001b[Kattention : \u001b[m\u001b[K#pragma omp parallel ignoré [-Wunknown-pragmas]\n",
      "   #pragma omp parallel for\n",
      "\u001b[01;32m\u001b[K ^\u001b[m\u001b[K\n",
      "\u001b[01m\u001b[Ksrc/haplophase.cpp:205:0:\u001b[m\u001b[K \u001b[01;35m\u001b[Kattention : \u001b[m\u001b[K#pragma omp critical ignoré [-Wunknown-pragmas]\n",
      "     #pragma omp critical\n",
      "\u001b[01;32m\u001b[K ^\u001b[m\u001b[K\n",
      "\u001b[01m\u001b[Ksrc/haplophase.cpp:244:0:\u001b[m\u001b[K \u001b[01;35m\u001b[Kattention : \u001b[m\u001b[K#pragma omp parallel ignoré [-Wunknown-pragmas]\n",
      "   #pragma omp parallel for\n",
      "\u001b[01;32m\u001b[K ^\u001b[m\u001b[K\n",
      "\u001b[01m\u001b[Ksrc/haplophase.cpp:251:0:\u001b[m\u001b[K \u001b[01;35m\u001b[Kattention : \u001b[m\u001b[K#pragma omp critical ignoré [-Wunknown-pragmas]\n",
      "     #pragma omp critical\n",
      "\u001b[01;32m\u001b[K ^\u001b[m\u001b[K\n",
      "g++ -c -Wall -fPIC -O3 -msse2 -DDISABLE_OPENMP src/estimatea/estimatea_c_api.cpp -o build/estimatea/estimatea_c_api.o\n",
      "g++ -c -Wall -fPIC -O3 -msse2 -DDISABLE_OPENMP src/estimatea/estimatea.cpp -o build/estimatea/estimatea.o\n",
      "g++ -c -Wall -fPIC -O3 -msse2 -DDISABLE_OPENMP src/datastruct/data.cpp -o build/datastruct/data.o\n",
      "g++ -c -Wall -fPIC -O3 -msse2 -DDISABLE_OPENMP src/datastruct/parameter_opti.cpp -o build/datastruct/parameter_opti.o\n",
      "g++ -c -Wall -fPIC -O3 -msse2 -DDISABLE_OPENMP src/datastruct/parameter_c_api.cpp -o build/datastruct/parameter_c_api.o\n",
      "g++ -c -Wall -fPIC -O3 -msse2 -DDISABLE_OPENMP src/datastruct/data_c_api.cpp -o build/datastruct/data_c_api.o\n",
      "g++ -c -Wall -fPIC -O3 -msse2 -DDISABLE_OPENMP src/graph/graph_c_api.cpp -o build/graph/graph_c_api.o\n",
      "g++ -c -Wall -fPIC -O3 -msse2 -DDISABLE_OPENMP src/graph/graph.cpp -o build/graph/graph.o\n",
      "\u001b[01m\u001b[Ksrc/graph/graph.cpp:122:0:\u001b[m\u001b[K \u001b[01;35m\u001b[Kattention : \u001b[m\u001b[K#pragma omp parallel ignoré [-Wunknown-pragmas]\n",
      "   #pragma omp parallel for\n",
      "\u001b[01;32m\u001b[K ^\u001b[m\u001b[K\n",
      "\u001b[01m\u001b[Ksrc/graph/graph.cpp:603:0:\u001b[m\u001b[K \u001b[01;35m\u001b[Kattention : \u001b[m\u001b[K#pragma omp parallel ignoré [-Wunknown-pragmas]\n",
      "   #pragma omp parallel for\n",
      "\u001b[01;32m\u001b[K ^\u001b[m\u001b[K\n",
      "g++ -c -Wall -fPIC -O3 -msse2 -DDISABLE_OPENMP src/parameter/main.cpp -o build/parameter/main.o\n",
      "g++ -c -Wall -fPIC -O3 -msse2 -DDISABLE_OPENMP src/estimateh/estimateh.cpp -o build/estimateh/estimateh.o\n",
      "g++ -c -Wall -fPIC -O3 -msse2 -DDISABLE_OPENMP src/estimateh/estimateh_c_api.cpp -o build/estimateh/estimateh_c_api.o\n",
      "g++ -c -Wall -fPIC -O3 -msse2 -DDISABLE_OPENMP src/utils/missingdata.cpp -o build/utils/missingdata.o\n",
      "g++ -c -Wall -fPIC -O3 -msse2 -DDISABLE_OPENMP src/errorhandler/errorhandler.cpp -o build/errorhandler/errorhandler.o\n",
      "g++ -Wall -fPIC -O3 -msse2 -DDISABLE_OPENMP -shared -o lib/libloter.so build/init.o build/haplophase.o build/estimatea/estimatea_c_api.o build/estimatea/estimatea.o build/datastruct/data.o build/datastruct/parameter_opti.o build/datastruct/parameter_c_api.o build/datastruct/data_c_api.o build/graph/graph_c_api.o build/graph/graph.o build/parameter/main.o build/estimateh/estimateh.o build/estimateh/estimateh_c_api.o build/utils/missingdata.o build/errorhandler/errorhandler.o \n"
     ]
    }
   ],
   "source": [
    "!make no_omp=1"
   ]
  },
  {
   "cell_type": "code",
   "execution_count": 3,
   "metadata": {},
   "outputs": [
    {
     "name": "stdout",
     "output_type": "stream",
     "text": [
      "/home/diasalvt/GitHub/Loter/python-package\n"
     ]
    }
   ],
   "source": [
    "cd python-package"
   ]
  },
  {
   "cell_type": "markdown",
   "metadata": {},
   "source": [
    "Now we can directly use the Python package \"loter\" because we are in the good directory. If you installed `Loter` globally this is not necessary."
   ]
  },
  {
   "cell_type": "markdown",
   "metadata": {},
   "source": [
    "# II) Quick overview <a class=\"anchor\" id='loter_usage'></a>"
   ]
  },
  {
   "cell_type": "markdown",
   "metadata": {},
   "source": [
    "## a) Load Data <a  class=\"anchor\" id='load_data'></a>"
   ]
  },
  {
   "cell_type": "code",
   "execution_count": 4,
   "metadata": {
    "collapsed": true
   },
   "outputs": [],
   "source": [
    "import numpy as np\n",
    "\n",
    "H_ceu = np.load(\"../data/H_ceu.npy\")\n",
    "H_yri = np.load(\"../data/H_yri.npy\")"
   ]
  },
  {
   "cell_type": "code",
   "execution_count": 5,
   "metadata": {},
   "outputs": [
    {
     "data": {
      "text/plain": [
       "(88, 50000)"
      ]
     },
     "execution_count": 5,
     "metadata": {},
     "output_type": "execute_result"
    }
   ],
   "source": [
    "H_ceu.shape"
   ]
  },
  {
   "cell_type": "code",
   "execution_count": 6,
   "metadata": {},
   "outputs": [
    {
     "data": {
      "text/plain": [
       "(100, 50000)"
      ]
     },
     "execution_count": 6,
     "metadata": {},
     "output_type": "execute_result"
    }
   ],
   "source": [
    "H_yri.shape"
   ]
  },
  {
   "cell_type": "markdown",
   "metadata": {},
   "source": [
    "## b) Create a synthetic admixed individual <a class=\"anchor\" id='admixed'></a>"
   ]
  },
  {
   "cell_type": "code",
   "execution_count": 7,
   "metadata": {
    "collapsed": true
   },
   "outputs": [],
   "source": [
    "H_met = np.copy(H_ceu[:2])"
   ]
  },
  {
   "cell_type": "markdown",
   "metadata": {},
   "source": [
    "At the middle of the dataset, the ancestry switches between CEU and YRI."
   ]
  },
  {
   "cell_type": "code",
   "execution_count": 8,
   "metadata": {
    "collapsed": true
   },
   "outputs": [],
   "source": [
    "pos_snp = H_yri.shape[1] / 2"
   ]
  },
  {
   "cell_type": "code",
   "execution_count": 9,
   "metadata": {},
   "outputs": [
    {
     "name": "stdout",
     "output_type": "stream",
     "text": [
      "25000\n"
     ]
    }
   ],
   "source": [
    "print(pos_snp)"
   ]
  },
  {
   "cell_type": "code",
   "execution_count": 10,
   "metadata": {
    "collapsed": true
   },
   "outputs": [],
   "source": [
    "H_met[:, pos_snp:] = H_yri[:2, pos_snp:]"
   ]
  },
  {
   "cell_type": "markdown",
   "metadata": {},
   "source": [
    "## c) Run Loter <a class=\"anchor\" id='run_loter'></a>"
   ]
  },
  {
   "cell_type": "markdown",
   "metadata": {},
   "source": [
    "We exclude the 2 first individuals used to create the admixed individuals."
   ]
  },
  {
   "cell_type": "code",
   "execution_count": 11,
   "metadata": {
    "collapsed": true
   },
   "outputs": [],
   "source": [
    "import loter.locanc.local_ancestry as lc\n",
    "\n",
    "res_loter = lc.loter_smooth([H_ceu[2:], H_yri[2:]], H_met)"
   ]
  },
  {
   "cell_type": "markdown",
   "metadata": {},
   "source": [
    "## d) Visualize ancestry chunks <a class=\"anchor\" id='plot_result'></a>"
   ]
  },
  {
   "cell_type": "code",
   "execution_count": 12,
   "metadata": {},
   "outputs": [
    {
     "data": {
      "text/plain": [
       "<matplotlib.image.AxesImage at 0x7faa51fd0e90>"
      ]
     },
     "execution_count": 12,
     "metadata": {},
     "output_type": "execute_result"
    },
    {
     "data": {
      "image/png": "[encoded data removed]",
      "text/plain": [
       "<matplotlib.figure.Figure at 0x7faa53b3ef90>"
      ]
     },
     "metadata": {},
     "output_type": "display_data"
    }
   ],
   "source": [
    "% matplotlib inline\n",
    "import matplotlib.pyplot as plt\n",
    "\n",
    "plt.imshow(res_loter, interpolation='nearest', aspect='auto')"
   ]
  },
  {
   "cell_type": "markdown",
   "metadata": {},
   "source": [
    "Where the switch appear in the result."
   ]
  },
  {
   "cell_type": "code",
   "execution_count": 13,
   "metadata": {},
   "outputs": [
    {
     "data": {
      "text/plain": [
       "array([[    0, 24994],\n",
       "       [    1, 24994]])"
      ]
     },
     "execution_count": 13,
     "metadata": {},
     "output_type": "execute_result"
    }
   ],
   "source": [
    "np.argwhere(np.diff(res_loter))"
   ]
  },
  {
   "cell_type": "markdown",
   "metadata": {},
   "source": [
    "Notice you might find another result due to the stochastic nature of Loter."
   ]
  },
  {
   "cell_type": "markdown",
   "metadata": {},
   "source": [
    "# III) Running Loter from VCF Files <a class=\"anchor\" id='vcf'></a>"
   ]
  },
  {
   "cell_type": "markdown",
   "metadata": {},
   "source": [
    "To load a VCF, we use [scikit allel](https://scikit-allel.readthedocs.io/en/latest/#)."
   ]
  },
  {
   "cell_type": "code",
   "execution_count": 14,
   "metadata": {
    "collapsed": true
   },
   "outputs": [],
   "source": [
    "import allel"
   ]
  },
  {
   "cell_type": "markdown",
   "metadata": {},
   "source": [
    "`vcf2npy` convert a VCF File to a numpy matrix with 0, 1 and 2."
   ]
  },
  {
   "cell_type": "code",
   "execution_count": 15,
   "metadata": {
    "collapsed": true
   },
   "outputs": [],
   "source": [
    "def vcf2npy(vcfpath):\n",
    "    callset = allel.read_vcf(vcfpath)\n",
    "    haplotypes_1 = callset['calldata/GT'][:,:,0]\n",
    "    haplotypes_2 = callset['calldata/GT'][:,:,1]\n",
    "    \n",
    "    m, n = haplotypes_1.shape\n",
    "    mat_haplo = np.empty((2*n, m))\n",
    "    mat_haplo[::2] = haplotypes_1.T\n",
    "    mat_haplo[1::2] = haplotypes_2.T\n",
    "    \n",
    "    return mat_haplo.astype(np.uint8)"
   ]
  },
  {
   "cell_type": "markdown",
   "metadata": {},
   "source": [
    "These 3 files are the results of the phasing software [Beagle](https://faculty.washington.edu/browning/beagle/beagle.html)."
   ]
  },
  {
   "cell_type": "code",
   "execution_count": 16,
   "metadata": {
    "collapsed": true
   },
   "outputs": [],
   "source": [
    "ceu_hap = vcf2npy('../data/ceu.vcf')\n",
    "yri_hap = vcf2npy('../data/yri.vcf')\n",
    "mex_hap = vcf2npy('../data/mex.vcf')"
   ]
  },
  {
   "cell_type": "markdown",
   "metadata": {},
   "source": [
    "Finally, we run Loter with default parameters.\n",
    "We assume, in this example, that Mexicans (*MEX*) are the result of admixture between Europeans (*CEU*) and Africans (*YRI*).\n",
    "This computation may take several minutes to complete.\n",
    "\n",
    "`loter_smooth` takes two arguments:\n",
    "- a list of ancestral haplotypes matrices. Its length is equal to the number of ancestral populations.\n",
    "- a matrix of admixed haplotypes\n",
    "\n",
    "and returns the origin of each SNP."
   ]
  },
  {
   "cell_type": "code",
   "execution_count": 17,
   "metadata": {
    "collapsed": true
   },
   "outputs": [],
   "source": [
    "import loter.locanc.local_ancestry as lc\n",
    "\n",
    "mex_admixed = lc.loter_smooth([ceu_hap, yri_hap], mex_hap)"
   ]
  },
  {
   "cell_type": "code",
   "execution_count": 18,
   "metadata": {},
   "outputs": [
    {
     "name": "stdout",
     "output_type": "stream",
     "text": [
      "[[0 0 0 ..., 1 1 1]\n",
      " [0 0 0 ..., 1 1 1]\n",
      " [0 0 0 ..., 1 1 1]\n",
      " ..., \n",
      " [0 0 0 ..., 1 1 1]\n",
      " [0 0 0 ..., 1 1 1]\n",
      " [0 0 0 ..., 0 0 0]]\n"
     ]
    }
   ],
   "source": [
    "print(mex_admixed)"
   ]
  },
  {
   "cell_type": "markdown",
   "metadata": {},
   "source": [
    "We display admixture chunks.\n",
    "Chunks of zero correspond to CEU (first element of the list) and chunks of one correspond to YRI (second element of the list)."
   ]
  },
  {
   "cell_type": "code",
   "execution_count": 19,
   "metadata": {},
   "outputs": [
    {
     "data": {
      "text/plain": [
       "<matplotlib.colorbar.Colorbar at 0x7faa080b3910>"
      ]
     },
     "execution_count": 19,
     "metadata": {},
     "output_type": "execute_result"
    },
    {
     "data": {
      "image/png": "[encoded data removed]",
      "text/plain": [
       "<matplotlib.figure.Figure at 0x7faa53b7a850>"
      ]
     },
     "metadata": {},
     "output_type": "display_data"
    }
   ],
   "source": [
    "% matplotlib inline\n",
    "import matplotlib.pyplot as plt\n",
    "\n",
    "plt.imshow(mex_admixed, interpolation='nearest', aspect='auto')\n",
    "plt.colorbar()"
   ]
  },
  {
   "cell_type": "markdown",
   "metadata": {},
   "source": [
    "Finally, we can save the result.\n",
    "Each line correspond to an haplotype. The SNPs are space delimited."
   ]
  },
  {
   "cell_type": "code",
   "execution_count": 20,
   "metadata": {
    "collapsed": true
   },
   "outputs": [],
   "source": [
    "np.savetxt(\"result_mex.txt\", mex_admixed, fmt=\"%i\")"
   ]
  },
  {
   "cell_type": "markdown",
   "metadata": {},
   "source": [
    "## Dealing with more than 2 populations"
   ]
  },
  {
   "cell_type": "markdown",
   "metadata": {},
   "source": [
    "It is not currently possible to account for phasing errors for more than two populations."
   ]
  },
  {
   "cell_type": "code",
   "execution_count": 21,
   "metadata": {
    "collapsed": true
   },
   "outputs": [],
   "source": [
    "import loter.locanc.local_ancestry as lc\n",
    "\n",
    "res_impute, res_no_impute = lc.loter_local_ancestry([ceu_hap, yri_hap, mex_hap], mex_hap)"
   ]
  },
  {
   "cell_type": "markdown",
   "metadata": {},
   "source": [
    "The result for the haplotype can be found in the second variable 'res_no_impute'.\n",
    "'res_no_impute[0]' contains the ancestry.\n",
    "'res_no_impute[1]' contains the number of time that ancestry was picked.\n",
    "\n",
    "'res_impute' contains the genotypic response.\n",
    "The genotypic response represents the haplotypic ancestries without order.\n",
    "\n",
    "The mapping function is the following:\n",
    "g: (h1, h2) -> (max(h1, h2) * (max(h1, h2) + 1))/2 + min(h1, h2)\n",
    "\n",
    "For example, let's consider 3 populations:\n",
    "* g((0, 0)) = (0 * 1)/2 + 0 = 0\n",
    "\n",
    "* g((0, 1)) = g((1, 0)) = (0 * 1)/2 + 1 = 1\n",
    "\n",
    "* g((1, 1)) = (1 * 2)/2 + 1 = 2\n",
    "\n",
    "* g((2, 0)) = g((0, 2)) = (2 * 3)/2 + 0 = 3\n",
    "\n",
    "* g((2, 1)) = g((1, 2)) = (2 * 3)/2 + 1 = 4\n",
    "\n",
    "* g((2, 2)) = (2 * 3)/2 + 2 = 5\n",
    "\n",
    "\n",
    "So we are compressing the pair information into one single number.\n",
    "It is useful for the computation of the genotypic acenstry error rate."
   ]
  },
  {
   "cell_type": "code",
   "execution_count": 29,
   "metadata": {},
   "outputs": [
    {
     "data": {
      "text/plain": [
       "<matplotlib.colorbar.Colorbar at 0x7fa9f77dab10>"
      ]
     },
     "execution_count": 29,
     "metadata": {},
     "output_type": "execute_result"
    },
    {
     "data": {
      "image/png": "[encoded data removed]",
      "text/plain": [
       "<matplotlib.figure.Figure at 0x7faa0807f750>"
      ]
     },
     "metadata": {},
     "output_type": "display_data"
    }
   ],
   "source": [
    "% matplotlib inline\n",
    "import matplotlib.pyplot as plt\n",
    "\n",
    "plt.imshow(res_no_impute[0], interpolation='nearest', aspect='auto')\n",
    "plt.colorbar()"
   ]
  },
  {
   "cell_type": "code",
   "execution_count": 27,
   "metadata": {},
   "outputs": [
    {
     "data": {
      "text/plain": [
       "array([[2, 2, 2, ..., 2, 2, 2],\n",
       "       [2, 2, 2, ..., 2, 2, 2],\n",
       "       [2, 2, 2, ..., 2, 2, 2],\n",
       "       ..., \n",
       "       [2, 2, 2, ..., 2, 2, 2],\n",
       "       [2, 2, 2, ..., 2, 2, 2],\n",
       "       [2, 2, 2, ..., 2, 2, 2]])"
      ]
     },
     "execution_count": 27,
     "metadata": {},
     "output_type": "execute_result"
    }
   ],
   "source": [
    "res_no_impute[0]"
   ]
  }
 ],
 "metadata": {
  "kernelspec": {
   "display_name": "Python 2",
   "language": "python",
   "name": "python2"
  },
  "language_info": {
   "codemirror_mode": {
    "name": "ipython",
    "version": 2
   },
   "file_extension": ".py",
   "mimetype": "text/x-python",
   "name": "python",
   "nbconvert_exporter": "python",
   "pygments_lexer": "ipython2",
   "version": "2.7.13"
  }
 },
 "nbformat": 4,
 "nbformat_minor": 2
}
